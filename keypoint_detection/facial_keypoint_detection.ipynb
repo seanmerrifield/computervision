{
 "cells": [
  {
   "cell_type": "markdown",
   "metadata": {},
   "source": [
    "# Facial Keypoint Detection"
   ]
  },
  {
   "cell_type": "markdown",
   "metadata": {},
   "source": [
    "This notebook uses a Convolutional Neural Network (CNN) to perform facial keypoint detection. This study will show that a CNN can be trained to predict facial keypoint detection on any image. The network architecture, training process, and test validation will be covered. Finally, it will be shown that the keypoint locations can be used to overlay additional images on particular parts of the face. \n",
    "\n",
    "<img src='images/key_pts_example.png' width=50% height=50%/>"
   ]
  },
  {
   "cell_type": "markdown",
   "metadata": {},
   "source": [
    "## Import Libraries\n",
    "\n",
    "This study uses Pytorch to build and train the CNN network. Custom model, training classes have been created and are imported here. Helper functions for loading, transforming, and visualizing data are also imported. \n",
    "\n",
    "* model - contains Net class that defines the CNN network architecture and feedforward behavior\n",
    "* trainer - contains Trainer class that defines the training behavior, including the loss and optimization functions\n",
    "* helper - contains various utility functions for visualizing the data\n",
    "* dataload - contains utility functions for loading and transforming the data set"
   ]
  },
  {
   "cell_type": "code",
   "execution_count": 16,
   "metadata": {},
   "outputs": [],
   "source": [
    "import helper\n",
    "from model import Net\n",
    "from trainer import Trainer\n",
    "from data_load import FacialKeypointsDataset, Rescale, RandomCrop, Normalize, ToTensor\n",
    "\n",
    "from torchvision import transforms\n",
    "from highcharts import Highchart\n",
    "from pathlib import Path\n",
    "import matplotlib.pyplot as plt\n",
    "%matplotlib inline"
   ]
  },
  {
   "cell_type": "markdown",
   "metadata": {},
   "source": [
    "## Download data\n",
    "\n",
    "Labelled training and test sets are downloaded and unzipped into the `/data` directory. "
   ]
  },
  {
   "cell_type": "code",
   "execution_count": null,
   "metadata": {},
   "outputs": [],
   "source": [
    "#Get labelled Facial Keypoint Data\n",
    "URL = \"https://s3.amazonaws.com/video.udacity-data.com/topher/2018/May/5aea1b91_train-test-data/\"\n",
    "DATA_FILE = 'train-test-data.zip'\n",
    "DOWNLOAD_PATH = './data/'\n",
    "\n",
    "\n",
    "if not Path(DOWNLOAD_PATH).exists(): Path(DOWNLOAD_PATH).mkdir()\n",
    "\n",
    "if not Path(DOWNLOAD_PATH, DATA_FILE).exists():\n",
    "    print(\"Downloading data...\")\n",
    "    r = requests.get(URL + DATA_FILE, stream=True)\n",
    "    assert(r.ok), 'Input data files could not be downloaded from URL'\n",
    "    with open(str(Path(DOWNLOAD_PATH, DATA_FILE)), 'wb+') as f:\n",
    "        for chunk in r.iter_content(chunk_size=1024):\n",
    "            if chunk: f.write(chunk)\n",
    "\n",
    "    z = zipfile.ZipFile(str(Path(DOWNLOAD_PATH, DATA_FILE)))\n",
    "    z.extractall(DOWNLOAD_PATH)\n",
    "    print(\"Downloading and extraction complete.\")"
   ]
  },
  {
   "cell_type": "markdown",
   "metadata": {},
   "source": [
    "## Prepare Data\n",
    "\n",
    "Data loaders are created here so that batches of images can be fed into the CNN during training and testing. The training set and test set are a labelled set of 3462 images and 700 images, respectively. \n",
    "\n",
    "The CNN will expect the input images to be the size shape and size. The image resolution was  Image channels and keypoint data are normalized to be between 0 and 1 to speed up backpropagation during training. The following transformations will be applied to the images prior to training and testing:\n",
    "* Grayscale - Grayscale images are used since color channels are not needed to detect facial keypoints. \n",
    "* Image rescale - Images are scaled up or down to be 100 x 100 pixels, a low resolution to speed up training. \n",
    "* Image crop - Crop image to be 96 x 96 pixels. \n",
    "* Normalize - Image channels and keypoint data are normalized to be between 0 and 1\n"
   ]
  },
  {
   "cell_type": "code",
   "execution_count": 51,
   "metadata": {},
   "outputs": [
    {
     "name": "stdout",
     "output_type": "stream",
     "text": [
      "Number of train images:  3462\n",
      "Number of test images:  770\n"
     ]
    }
   ],
   "source": [
    "# order matters! i.e. rescaling should come before a smaller crop\n",
    "data_transform = transforms.Compose([Rescale(100),RandomCrop(96),Normalize(),ToTensor()])\n",
    "\n",
    "# create the transformed dataset\n",
    "train_dataset = FacialKeypointsDataset(csv_file='./data/training_frames_keypoints.csv',\n",
    "                                             root_dir='./data/training/',\n",
    "                                             transform=data_transform)\n",
    "\n",
    "# create the test dataset\n",
    "test_dataset = FacialKeypointsDataset(csv_file='./data/test_frames_keypoints.csv',\n",
    "                                             root_dir='./data/test/',\n",
    "                                             transform=data_transform)\n",
    "\n",
    "print('Number of train images: ', len(train_dataset))\n",
    "print('Number of test images: ', len(test_dataset))"
   ]
  },
  {
   "cell_type": "code",
   "execution_count": 54,
   "metadata": {},
   "outputs": [
    {
     "name": "stdout",
     "output_type": "stream",
     "text": [
      "Transformed image size:  96 x 96\n"
     ]
    },
    {
     "data": {
      "image/png": "[encoded data removed]",
      "text/plain": [
       "<matplotlib.figure.Figure at 0x11f293898>"
      ]
     },
     "metadata": {
      "needs_background": "light"
     },
     "output_type": "display_data"
    }
   ],
   "source": [
    "sample_id = 2\n",
    "sample_set = train_dataset[sample_id]\n",
    "sample_img = sample_set['image'].data.squeeze().numpy()\n",
    "sample_pts = sample_set['keypoints'].data.numpy()\n",
    "sample_pts = sample_pts*50+100 #Remove normalization from keypoints\n",
    "\n",
    "print('Transformed image size: ', sample_img.shape[0], 'x', sample_img.shape[1])\n",
    "helper.show_all_keypoints(sample_img, sample_pts)\n",
    "plt.title('Sample training image with keypoints')\n",
    "plt.show()"
   ]
  },
  {
   "cell_type": "markdown",
   "metadata": {},
   "source": [
    "## CNN Architecture\n",
    "\n"
   ]
  },
  {
   "cell_type": "code",
   "execution_count": 10,
   "metadata": {},
   "outputs": [
    {
     "name": "stdout",
     "output_type": "stream",
     "text": [
      "Net(\n",
      "  (conv1): Conv2d(1, 32, kernel_size=(4, 4), stride=(1, 1))\n",
      "  (conv2): Conv2d(32, 64, kernel_size=(3, 3), stride=(1, 1))\n",
      "  (conv3): Conv2d(64, 128, kernel_size=(2, 2), stride=(1, 1))\n",
      "  (conv4): Conv2d(128, 256, kernel_size=(1, 1), stride=(1, 1))\n",
      "  (pool): MaxPool2d(kernel_size=2, stride=2, padding=0, dilation=1, ceil_mode=False)\n",
      "  (full1): Linear(in_features=6400, out_features=1000, bias=True)\n",
      "  (dropout): Dropout(p=0.4)\n",
      "  (full2): Linear(in_features=1000, out_features=136, bias=True)\n",
      ")\n"
     ]
    }
   ],
   "source": [
    "net = Net()\n",
    "print(net)"
   ]
  },
  {
   "cell_type": "markdown",
   "metadata": {},
   "source": [
    "## Train"
   ]
  },
  {
   "cell_type": "code",
   "execution_count": null,
   "metadata": {},
   "outputs": [],
   "source": [
    "# Network hyperparams \n",
    "batch_size = 10\n",
    "n_epochs = 10\n",
    "lr = 0.001\n",
    "\n",
    "run_dir = helper.create_training_dir()\n",
    "\n",
    "#Attach network model to Trainer\n",
    "trainer = Trainer(net, name=\"Training Run\", root_dir=run_dir)\n",
    "\n",
    "#Attach test and training data to Trainer\n",
    "trainer.train_set(transformed_dataset, batch_size)\n",
    "trainer.test_set(test_dataset, batch_size)\n",
    "\n",
    "#Set loss function and optimizer\n",
    "trainer.loss_fn(trainer.L1_SMOOTH)\n",
    "trainer.optimizer(trainer.ADAM, lr=lr)"
   ]
  },
  {
   "cell_type": "code",
   "execution_count": null,
   "metadata": {},
   "outputs": [],
   "source": [
    "trainer.train(n_epochs)"
   ]
  },
  {
   "cell_type": "code",
   "execution_count": 11,
   "metadata": {},
   "outputs": [
    {
     "data": {
      "text/html": [
       "<iframe style=\"border:0;outline:none;overflow:hidden\" srcdoc=\"&lt;!DOCTYPE html&gt; &lt;html lang=&quot;en&quot;&gt; &lt;head&gt; &lt;meta charset=&quot;utf-8&quot; /&gt; &lt;link href=&quot;https://www.highcharts.com/highslide/highslide.css&quot; rel=&quot;stylesheet&quot; /&gt; &lt;script type=&quot;text/javascript&quot; src=&quot;https://ajax.googleapis.com/ajax/libs/jquery/1.9.1/jquery.min.js&quot;&gt;&lt;/script&gt; &lt;script type=&quot;text/javascript&quot; src=&quot;https://code.highcharts.com/highcharts.js&quot;&gt;&lt;/script&gt; &lt;script type=&quot;text/javascript&quot; src=&quot;https://code.highcharts.com/highcharts-more.js&quot;&gt;&lt;/script&gt; &lt;script type=&quot;text/javascript&quot; src=&quot;https://code.highcharts.com/modules/heatmap.js&quot;&gt;&lt;/script&gt; &lt;script type=&quot;text/javascript&quot; src=&quot;https://code.highcharts.com/modules/exporting.js&quot;&gt;&lt;/script&gt; &lt;/head&gt; &lt;body style=&quot;margin:0;padding:0&quot;&gt; &lt;div id=&quot;container&quot; style=&quot;&quot;&gt;Loading....&lt;/div&gt; &lt;script&gt; $(function(){ Highcharts.setOptions({&quot;global&quot;: {}, &quot;lang&quot;: {}}); var option = {&quot;chart&quot;: {&quot;renderTo&quot;: &quot;container&quot;}, &quot;colors&quot;: {}, &quot;credits&quot;: {&quot;enabled&quot;: false}, &quot;drilldown&quot;: {}, &quot;exporting&quot;: {}, &quot;labels&quot;: {}, &quot;legend&quot;: {&quot;enabled&quot;: true, &quot;layout&quot;: &quot;vertical&quot;, &quot;align&quot;: &quot;left&quot;, &quot;verticalAlign&quot;: &quot;middle&quot;}, &quot;loading&quot;: {}, &quot;navigation&quot;: {}, &quot;pane&quot;: {}, &quot;plotOptions&quot;: {}, &quot;series&quot;: {}, &quot;subtitle&quot;: {}, &quot;title&quot;: {&quot;text&quot;: &quot;Loss over time for various models&quot;}, &quot;tooltip&quot;: {&quot;headerFormat&quot;: &quot;&lt;b&gt;{series.name}&lt;/b&gt;&lt;br/&gt;&quot;, &quot;pointFormat&quot;: &quot;{point.x} images: Loss = {point.y}&quot;}, &quot;xAxis&quot;: {&quot;title&quot;: {&quot;text&quot;: &quot;Number of images&quot;}, &quot;maxPadding&quot;: 0.05, &quot;showLastLabel&quot;: true}, &quot;yAxis&quot;: {&quot;title&quot;: {&quot;text&quot;: &quot;Loss&quot;}, &quot;lineWidth&quot;: 2, &quot;max&quot;: 1}}; var chart = new Highcharts.Chart(option); var data = [{&quot;data&quot;: [[0, 2.3035], [64, 0.2792], [128, 0.2161], [192, 0.1927], [256, 0.2163]], &quot;type&quot;: &quot;line&quot;, &quot;name&quot;: &quot;Conv: 3, Out: 2, Kernel: 5, Loss: Mean Squared Error, Batch: 64, Drop: 0.4&quot;}, {&quot;data&quot;: [[0, 0.8188], [32, 0.2816], [64, 0.2155], [96, 0.1917], [128, 0.1924], [160, 0.2288], [192, 0.1845], [224, 0.2037], [256, 0.2061], [288, 0.1803]], &quot;type&quot;: &quot;line&quot;, &quot;name&quot;: &quot;Conv: 4, Out: 2, Kernel: 5, Loss: Mean Squared Error, Batch: 32, Drop: 0.4&quot;}, {&quot;data&quot;: [[0, 0.5892], [32, 0.2785], [64, 0.1711], [96, 0.1906], [128, 0.2131], [160, 0.1922], [192, 0.1798], [224, 0.1714], [256, 0.2114], [288, 0.1981]], &quot;type&quot;: &quot;line&quot;, &quot;name&quot;: &quot;Conv: 4, Out: 3, Kernel: 5, Loss: Mean Squared Error, Batch: 32, Drop: 0&quot;}, {&quot;data&quot;: [[0, 0.4918], [32, 0.2148], [64, 0.2103], [96, 0.1971], [128, 0.1886], [160, 0.1864], [192, 0.1895], [224, 0.1989], [256, 0.1981], [288, 0.2137], [320, 0.1892], [352, 0.1987], [384, 0.1904], [416, 0.1856], [448, 0.1969], [480, 0.186], [512, 0.1804], [544, 0.1922], [576, 0.1987], [608, 0.1776]], &quot;type&quot;: &quot;line&quot;, &quot;name&quot;: &quot;Conv: 4, Out: 3, Kernel: 5, Loss: Mean Squared Error, Batch: 32, Drop: 0.4&quot;}, {&quot;data&quot;: [[0, 1.0529], [32, 0.216], [64, 0.1956], [96, 0.2299], [128, 0.1886], [160, 0.2164], [192, 0.1703], [224, 0.2252], [256, 0.1805], [288, 0.2064], [320, 0.1877], [352, 0.163], [384, 0.1881], [416, 0.1965], [448, 0.1877], [480, 0.1746], [512, 0.1634], [544, 0.1805], [576, 0.2018], [608, 0.2171]], &quot;type&quot;: &quot;line&quot;, &quot;name&quot;: &quot;Conv: 3, Out: 2, Kernel: 5, Loss: Mean Squared Error, Batch: 32, Drop: 0&quot;}, {&quot;data&quot;: [[0, 0.9138], [32, 0.214], [64, 0.2125], [96, 0.1989], [128, 0.1868], [160, 0.1732], [192, 0.1848], [224, 0.1981], [256, 0.1847], [288, 0.1935]], &quot;type&quot;: &quot;line&quot;, &quot;name&quot;: &quot;Conv: 3, Out: 3, Kernel: 5, Loss: Mean Squared Error, Batch: 32, Drop: 0&quot;}, {&quot;data&quot;: [[0, 5.6879], [32, 0.2315], [64, 0.2012], [96, 0.1898], [128, 0.1859], [160, 0.1859], [192, 0.1886], [224, 0.1982], [256, 0.1861], [288, 0.1729]], &quot;type&quot;: &quot;line&quot;, &quot;name&quot;: &quot;Conv: 2, Out: 2, Kernel: 5, Loss: Mean Squared Error, Batch: 32, Drop: 0&quot;}, {&quot;data&quot;: [[0, 8.0002], [64, 0.5118], [128, 0.3537], [192, 0.3083], [256, 0.2624]], &quot;type&quot;: &quot;line&quot;, &quot;name&quot;: &quot;Conv: 2, Out: 2, Kernel: 5, Loss: Mean Squared Error, Batch: 64, Drop: 0&quot;}, {&quot;data&quot;: [[0, 0.3023], [10, 0.1241], [20, 0.1104], [30, 0.1101], [40, 0.089], [50, 0.1014], [60, 0.0999], [70, 0.1016], [80, 0.0929], [90, 0.1066], [100, 0.109], [110, 0.0865], [120, 0.0849], [130, 0.0904], [140, 0.085], [150, 0.1046], [160, 0.1259], [170, 0.1], [180, 0.0899], [190, 0.0849], [200, 0.0839], [210, 0.0766], [220, 0.069], [230, 0.0886], [240, 0.068], [250, 0.087], [260, 0.083], [270, 0.0812], [280, 0.0706], [290, 0.072], [300, 0.077], [310, 0.0685], [320, 0.0771], [330, 0.092]], &quot;type&quot;: &quot;line&quot;, &quot;name&quot;: &quot;Conv: 3, Out: 2, Kernel: 5, Loss: Smooth L1 Loss, Batch: 10, Drop: 0.4&quot;}, {&quot;data&quot;: [[0, 0.1757], [10, 0.0414], [20, 0.0298], [30, 0.0243], [40, 0.0193], [50, 0.0195], [60, 0.018], [70, 0.0182], [80, 0.0188], [90, 0.0192], [100, 0.0187], [110, 0.0159], [120, 0.0157], [130, 0.0189], [140, 0.0153], [150, 0.0211], [160, 0.0155], [170, 0.0152], [180, 0.0172], [190, 0.0173], [200, 0.0189], [210, 0.0158], [220, 0.015], [230, 0.0154], [240, 0.0144], [250, 0.0164], [260, 0.0172], [270, 0.018], [280, 0.0131], [290, 0.0185], [300, 0.0154], [310, 0.0136], [320, 0.0134], [330, 0.0137]], &quot;type&quot;: &quot;line&quot;, &quot;name&quot;: &quot;Conv: 4, Out: 2, Kernel: 4, Loss: Smooth L1 Loss, Batch: 10, Drop: 0.4&quot;}, {&quot;data&quot;: [[0, 0.1988], [10, 0.0483], [20, 0.03], [30, 0.0224], [40, 0.0256], [50, 0.022], [60, 0.019], [70, 0.0194], [80, 0.0249], [90, 0.0228], [100, 0.0199], [110, 0.0233], [120, 0.021], [130, 0.0175], [140, 0.0202], [150, 0.0187], [160, 0.0144], [170, 0.015], [180, 0.0179], [190, 0.0148], [200, 0.0159], [210, 0.0161], [220, 0.0156], [230, 0.0172], [240, 0.0164], [250, 0.0162], [260, 0.0169], [270, 0.0166], [280, 0.0135], [290, 0.0143], [300, 0.0187], [310, 0.0157], [320, 0.0134], [330, 0.0129]], &quot;type&quot;: &quot;line&quot;, &quot;name&quot;: &quot;Conv: 4, Out: 2, Kernel: 4, Loss: Smooth L1 Loss, Batch: 10, Drop: 0.4&quot;}, {&quot;data&quot;: [[0, 0.1675], [10, 0.0393], [20, 0.0279], [30, 0.0219], [40, 0.0216], [50, 0.0193], [60, 0.0193], [70, 0.0184], [80, 0.0208], [90, 0.0196], [100, 0.0216], [110, 0.0177], [120, 0.0168], [130, 0.0164], [140, 0.0153], [150, 0.018], [160, 0.0193], [170, 0.0163], [180, 0.0181], [190, 0.0166], [200, 0.0142], [210, 0.0165], [220, 0.0174], [230, 0.0151], [240, 0.0162], [250, 0.0155], [260, 0.0157], [270, 0.018], [280, 0.0122], [290, 0.018], [300, 0.0178], [310, 0.0158], [320, 0.0136], [330, 0.0191], [340, 0.0186], [350, 0.0153], [360, 0.0156], [370, 0.0133], [380, 0.0146], [390, 0.0121], [400, 0.0129], [410, 0.0155], [420, 0.0144], [430, 0.0132], [440, 0.0154], [450, 0.0172], [460, 0.0146], [470, 0.016], [480, 0.0143], [490, 0.014], [500, 0.0174], [510, 0.016], [520, 0.0169], [530, 0.0151], [540, 0.017], [550, 0.0207], [560, 0.0152], [570, 0.0238], [580, 0.0128], [590, 0.0129], [600, 0.0111], [610, 0.0123], [620, 0.0135], [630, 0.0128], [640, 0.0138], [650, 0.0112], [660, 0.0134], [670, 0.011], [680, 0.0167], [690, 0.0188], [700, 0.0178], [710, 0.0161], [720, 0.0127], [730, 0.0108], [740, 0.0119], [750, 0.013], [760, 0.0125], [770, 0.0205], [780, 0.0146], [790, 0.0111], [800, 0.011], [810, 0.0107], [820, 0.0128], [830, 0.0134], [840, 0.0129], [850, 0.0133], [860, 0.0129], [870, 0.0114], [880, 0.0128], [890, 0.0127], [900, 0.0122], [910, 0.0155], [920, 0.0142], [930, 0.0133], [940, 0.017], [950, 0.0099], [960, 0.017], [970, 0.0142], [980, 0.0116], [990, 0.0126], [1000, 0.0118], [1010, 0.0119], [1020, 0.0161], [1030, 0.0131], [1040, 0.0145], [1050, 0.0145], [1060, 0.017], [1070, 0.0123], [1080, 0.014], [1090, 0.0137], [1100, 0.0143], [1110, 0.0147], [1120, 0.0115], [1130, 0.011], [1140, 0.0176], [1150, 0.0154], [1160, 0.0112], [1170, 0.0119], [1180, 0.011], [1190, 0.012], [1200, 0.0115], [1210, 0.0137], [1220, 0.0153], [1230, 0.0138], [1240, 0.014], [1250, 0.0126], [1260, 0.0164], [1270, 0.014], [1280, 0.0145], [1290, 0.0128], [1300, 0.0126], [1310, 0.014], [1320, 0.01], [1330, 0.009], [1340, 0.0097], [1350, 0.0125], [1360, 0.0113], [1370, 0.0095], [1380, 0.0106], [1390, 0.0148], [1400, 0.0107], [1410, 0.0106], [1420, 0.0152], [1430, 0.0173], [1440, 0.0109], [1450, 0.0097], [1460, 0.0151], [1470, 0.0114], [1480, 0.018], [1490, 0.013], [1500, 0.0113], [1510, 0.0108], [1520, 0.0168], [1530, 0.0118], [1540, 0.0139], [1550, 0.012], [1560, 0.0105], [1570, 0.012], [1580, 0.011], [1590, 0.0111], [1600, 0.0123], [1610, 0.0091], [1620, 0.0107], [1630, 0.0107], [1640, 0.0092], [1650, 0.0097], [1660, 0.0104], [1670, 0.0102], [1680, 0.0124], [1690, 0.0089], [1700, 0.0144], [1710, 0.016], [1720, 0.0118], [1730, 0.0105], [1740, 0.0108], [1750, 0.0136], [1760, 0.0123], [1770, 0.0088], [1780, 0.0084], [1790, 0.0131], [1800, 0.0089], [1810, 0.0119], [1820, 0.0093], [1830, 0.0152], [1840, 0.0131], [1850, 0.0133], [1860, 0.0102], [1870, 0.0123], [1880, 0.0127], [1890, 0.0088], [1900, 0.0115], [1910, 0.0103], [1920, 0.0093], [1930, 0.0117], [1940, 0.0108], [1950, 0.0101], [1960, 0.01], [1970, 0.0117], [1980, 0.0099], [1990, 0.008], [2000, 0.0106], [2010, 0.0081], [2020, 0.0072], [2030, 0.0138], [2040, 0.0106], [2050, 0.0088], [2060, 0.0113], [2070, 0.0116], [2080, 0.01], [2090, 0.0105], [2100, 0.008], [2110, 0.0091], [2120, 0.0106], [2130, 0.0092], [2140, 0.0105], [2150, 0.0088], [2160, 0.0082], [2170, 0.0085], [2180, 0.0091], [2190, 0.0095], [2200, 0.0074], [2210, 0.0073], [2220, 0.011], [2230, 0.0099], [2240, 0.0098], [2250, 0.0104], [2260, 0.0094], [2270, 0.0077], [2280, 0.0086], [2290, 0.0125], [2300, 0.0081], [2310, 0.0107], [2320, 0.0092], [2330, 0.0064], [2340, 0.0077], [2350, 0.0077], [2360, 0.0072], [2370, 0.0136], [2380, 0.008], [2390, 0.0102], [2400, 0.0106], [2410, 0.0071], [2420, 0.0084], [2430, 0.0067], [2440, 0.0095], [2450, 0.0064], [2460, 0.0114], [2470, 0.0086], [2480, 0.0087], [2490, 0.008], [2500, 0.01], [2510, 0.0089], [2520, 0.0079], [2530, 0.0078], [2540, 0.007], [2550, 0.0068], [2560, 0.0067], [2570, 0.0089], [2580, 0.01], [2590, 0.0085], [2600, 0.0071], [2610, 0.0079], [2620, 0.0105], [2630, 0.0096], [2640, 0.0081], [2650, 0.0096], [2660, 0.0104], [2670, 0.0073], [2680, 0.0078], [2690, 0.0079], [2700, 0.0081], [2710, 0.0057], [2720, 0.0077], [2730, 0.0089], [2740, 0.0077], [2750, 0.0074], [2760, 0.0062], [2770, 0.0088], [2780, 0.0051], [2790, 0.0059], [2800, 0.0072], [2810, 0.0089], [2820, 0.0113], [2830, 0.0076], [2840, 0.0064], [2850, 0.0141], [2860, 0.0069], [2870, 0.0111], [2880, 0.0079], [2890, 0.0064], [2900, 0.0069], [2910, 0.0065], [2920, 0.0063], [2930, 0.0059], [2940, 0.0086], [2950, 0.0118], [2960, 0.0083], [2970, 0.0076], [2980, 0.0103], [2990, 0.0063], [3000, 0.0075], [3010, 0.0081], [3020, 0.0103], [3030, 0.0069], [3040, 0.0128], [3050, 0.0071], [3060, 0.017], [3070, 0.0091], [3080, 0.0086], [3090, 0.0059], [3100, 0.0076], [3110, 0.0072], [3120, 0.0074], [3130, 0.0087], [3140, 0.0052], [3150, 0.0083], [3160, 0.0071], [3170, 0.0098], [3180, 0.009], [3190, 0.006], [3200, 0.0074], [3210, 0.0081], [3220, 0.0075], [3230, 0.0089], [3240, 0.0087], [3250, 0.007], [3260, 0.0078], [3270, 0.0065], [3280, 0.0063], [3290, 0.0058], [3300, 0.0085], [3310, 0.0063], [3320, 0.0066], [3330, 0.0057], [3340, 0.0068], [3350, 0.0099], [3360, 0.0076], [3370, 0.0066], [3380, 0.0063], [3390, 0.0072]], &quot;type&quot;: &quot;line&quot;, &quot;name&quot;: &quot;Conv: 4, Out: 2, Kernel: 4, Loss: Smooth L1 Loss, Batch: 10, Drop: 0.4&quot;}]; var dataLen = data.length; for (var ix = 0; ix &lt; dataLen; ix++) { chart.addSeries(data[ix]); } }); &lt;/script&gt; &lt;/body&gt; &lt;/html&gt;\" height=520 width=820></iframe>"
      ],
      "text/plain": [
       "<highcharts.highcharts.highcharts.Highchart at 0x11aceff28>"
      ]
     },
     "execution_count": 11,
     "metadata": {},
     "output_type": "execute_result"
    }
   ],
   "source": [
    "DIR = './train'\n",
    "\n",
    "chart = helper.display_losses(DIR)\n",
    "chart"
   ]
  },
  {
   "cell_type": "markdown",
   "metadata": {},
   "source": [
    "## Run Tests"
   ]
  },
  {
   "cell_type": "code",
   "execution_count": 7,
   "metadata": {},
   "outputs": [
    {
     "data": {
      "text/html": [
       "<iframe style=\"border:0;outline:none;overflow:hidden\" srcdoc=\"&lt;!DOCTYPE html&gt; &lt;html lang=&quot;en&quot;&gt; &lt;head&gt; &lt;meta charset=&quot;utf-8&quot; /&gt; &lt;link href=&quot;https://www.highcharts.com/highslide/highslide.css&quot; rel=&quot;stylesheet&quot; /&gt; &lt;script type=&quot;text/javascript&quot; src=&quot;https://ajax.googleapis.com/ajax/libs/jquery/1.9.1/jquery.min.js&quot;&gt;&lt;/script&gt; &lt;script type=&quot;text/javascript&quot; src=&quot;https://code.highcharts.com/highcharts.js&quot;&gt;&lt;/script&gt; &lt;script type=&quot;text/javascript&quot; src=&quot;https://code.highcharts.com/highcharts-more.js&quot;&gt;&lt;/script&gt; &lt;script type=&quot;text/javascript&quot; src=&quot;https://code.highcharts.com/modules/heatmap.js&quot;&gt;&lt;/script&gt; &lt;script type=&quot;text/javascript&quot; src=&quot;https://code.highcharts.com/modules/exporting.js&quot;&gt;&lt;/script&gt; &lt;/head&gt; &lt;body style=&quot;margin:0;padding:0&quot;&gt; &lt;div id=&quot;container&quot; style=&quot;&quot;&gt;Loading....&lt;/div&gt; &lt;script&gt; $(function(){ Highcharts.setOptions({&quot;global&quot;: {}, &quot;lang&quot;: {}}); var option = {&quot;chart&quot;: {&quot;renderTo&quot;: &quot;container&quot;}, &quot;colors&quot;: {}, &quot;credits&quot;: {&quot;enabled&quot;: false}, &quot;drilldown&quot;: {}, &quot;exporting&quot;: {}, &quot;labels&quot;: {}, &quot;legend&quot;: {&quot;enabled&quot;: true, &quot;layout&quot;: &quot;vertical&quot;, &quot;align&quot;: &quot;left&quot;, &quot;verticalAlign&quot;: &quot;middle&quot;}, &quot;loading&quot;: {}, &quot;navigation&quot;: {}, &quot;pane&quot;: {}, &quot;plotOptions&quot;: {}, &quot;series&quot;: {}, &quot;subtitle&quot;: {}, &quot;title&quot;: {&quot;text&quot;: &quot;Loss over time for various models&quot;}, &quot;tooltip&quot;: {&quot;headerFormat&quot;: &quot;&lt;b&gt;{series.name}&lt;/b&gt;&lt;br/&gt;&quot;, &quot;pointFormat&quot;: &quot;{point.x} images: Loss = {point.y}&quot;}, &quot;xAxis&quot;: {&quot;title&quot;: {&quot;text&quot;: &quot;Number of images&quot;}, &quot;maxPadding&quot;: 0.05, &quot;showLastLabel&quot;: true}, &quot;yAxis&quot;: {&quot;title&quot;: {&quot;text&quot;: &quot;Loss&quot;}, &quot;lineWidth&quot;: 2, &quot;max&quot;: 1}}; var chart = new Highcharts.Chart(option); var data = [{&quot;data&quot;: [[0, 2.3035], [64, 0.2792], [128, 0.2161], [192, 0.1927], [256, 0.2163]], &quot;type&quot;: &quot;line&quot;, &quot;name&quot;: &quot;Conv: 3, Out: 2, Kernel: 5, Loss: Mean Squared Error, Batch: 64, Drop: 0.4&quot;}, {&quot;data&quot;: [[0, 0.8188], [32, 0.2816], [64, 0.2155], [96, 0.1917], [128, 0.1924], [160, 0.2288], [192, 0.1845], [224, 0.2037], [256, 0.2061], [288, 0.1803]], &quot;type&quot;: &quot;line&quot;, &quot;name&quot;: &quot;Conv: 4, Out: 2, Kernel: 5, Loss: Mean Squared Error, Batch: 32, Drop: 0.4&quot;}, {&quot;data&quot;: [[0, 0.5892], [32, 0.2785], [64, 0.1711], [96, 0.1906], [128, 0.2131], [160, 0.1922], [192, 0.1798], [224, 0.1714], [256, 0.2114], [288, 0.1981]], &quot;type&quot;: &quot;line&quot;, &quot;name&quot;: &quot;Conv: 4, Out: 3, Kernel: 5, Loss: Mean Squared Error, Batch: 32, Drop: 0&quot;}, {&quot;data&quot;: [[0, 0.4918], [32, 0.2148], [64, 0.2103], [96, 0.1971], [128, 0.1886], [160, 0.1864], [192, 0.1895], [224, 0.1989], [256, 0.1981], [288, 0.2137], [320, 0.1892], [352, 0.1987], [384, 0.1904], [416, 0.1856], [448, 0.1969], [480, 0.186], [512, 0.1804], [544, 0.1922], [576, 0.1987], [608, 0.1776]], &quot;type&quot;: &quot;line&quot;, &quot;name&quot;: &quot;Conv: 4, Out: 3, Kernel: 5, Loss: Mean Squared Error, Batch: 32, Drop: 0.4&quot;}, {&quot;data&quot;: [[0, 1.0529], [32, 0.216], [64, 0.1956], [96, 0.2299], [128, 0.1886], [160, 0.2164], [192, 0.1703], [224, 0.2252], [256, 0.1805], [288, 0.2064], [320, 0.1877], [352, 0.163], [384, 0.1881], [416, 0.1965], [448, 0.1877], [480, 0.1746], [512, 0.1634], [544, 0.1805], [576, 0.2018], [608, 0.2171]], &quot;type&quot;: &quot;line&quot;, &quot;name&quot;: &quot;Conv: 3, Out: 2, Kernel: 5, Loss: Mean Squared Error, Batch: 32, Drop: 0&quot;}, {&quot;data&quot;: [[0, 0.9138], [32, 0.214], [64, 0.2125], [96, 0.1989], [128, 0.1868], [160, 0.1732], [192, 0.1848], [224, 0.1981], [256, 0.1847], [288, 0.1935]], &quot;type&quot;: &quot;line&quot;, &quot;name&quot;: &quot;Conv: 3, Out: 3, Kernel: 5, Loss: Mean Squared Error, Batch: 32, Drop: 0&quot;}, {&quot;data&quot;: [[0, 5.6879], [32, 0.2315], [64, 0.2012], [96, 0.1898], [128, 0.1859], [160, 0.1859], [192, 0.1886], [224, 0.1982], [256, 0.1861], [288, 0.1729]], &quot;type&quot;: &quot;line&quot;, &quot;name&quot;: &quot;Conv: 2, Out: 2, Kernel: 5, Loss: Mean Squared Error, Batch: 32, Drop: 0&quot;}, {&quot;data&quot;: [[0, 8.0002], [64, 0.5118], [128, 0.3537], [192, 0.3083], [256, 0.2624]], &quot;type&quot;: &quot;line&quot;, &quot;name&quot;: &quot;Conv: 2, Out: 2, Kernel: 5, Loss: Mean Squared Error, Batch: 64, Drop: 0&quot;}, {&quot;data&quot;: [[0, 0.3023], [10, 0.1241], [20, 0.1104], [30, 0.1101], [40, 0.089], [50, 0.1014], [60, 0.0999], [70, 0.1016], [80, 0.0929], [90, 0.1066], [100, 0.109], [110, 0.0865], [120, 0.0849], [130, 0.0904], [140, 0.085], [150, 0.1046], [160, 0.1259], [170, 0.1], [180, 0.0899], [190, 0.0849], [200, 0.0839], [210, 0.0766], [220, 0.069], [230, 0.0886], [240, 0.068], [250, 0.087], [260, 0.083], [270, 0.0812], [280, 0.0706], [290, 0.072], [300, 0.077], [310, 0.0685], [320, 0.0771], [330, 0.092]], &quot;type&quot;: &quot;line&quot;, &quot;name&quot;: &quot;Conv: 3, Out: 2, Kernel: 5, Loss: Smooth L1 Loss, Batch: 10, Drop: 0.4&quot;}, {&quot;data&quot;: [[0, 0.1757], [10, 0.0414], [20, 0.0298], [30, 0.0243], [40, 0.0193], [50, 0.0195], [60, 0.018], [70, 0.0182], [80, 0.0188], [90, 0.0192], [100, 0.0187], [110, 0.0159], [120, 0.0157], [130, 0.0189], [140, 0.0153], [150, 0.0211], [160, 0.0155], [170, 0.0152], [180, 0.0172], [190, 0.0173], [200, 0.0189], [210, 0.0158], [220, 0.015], [230, 0.0154], [240, 0.0144], [250, 0.0164], [260, 0.0172], [270, 0.018], [280, 0.0131], [290, 0.0185], [300, 0.0154], [310, 0.0136], [320, 0.0134], [330, 0.0137]], &quot;type&quot;: &quot;line&quot;, &quot;name&quot;: &quot;Conv: 4, Out: 2, Kernel: 4, Loss: Smooth L1 Loss, Batch: 10, Drop: 0.4&quot;}, {&quot;data&quot;: [[0, 0.1988], [10, 0.0483], [20, 0.03], [30, 0.0224], [40, 0.0256], [50, 0.022], [60, 0.019], [70, 0.0194], [80, 0.0249], [90, 0.0228], [100, 0.0199], [110, 0.0233], [120, 0.021], [130, 0.0175], [140, 0.0202], [150, 0.0187], [160, 0.0144], [170, 0.015], [180, 0.0179], [190, 0.0148], [200, 0.0159], [210, 0.0161], [220, 0.0156], [230, 0.0172], [240, 0.0164], [250, 0.0162], [260, 0.0169], [270, 0.0166], [280, 0.0135], [290, 0.0143], [300, 0.0187], [310, 0.0157], [320, 0.0134], [330, 0.0129]], &quot;type&quot;: &quot;line&quot;, &quot;name&quot;: &quot;Conv: 4, Out: 2, Kernel: 4, Loss: Smooth L1 Loss, Batch: 10, Drop: 0.4&quot;}, {&quot;data&quot;: [[0, 0.1675], [10, 0.0393], [20, 0.0279], [30, 0.0219], [40, 0.0216], [50, 0.0193], [60, 0.0193], [70, 0.0184], [80, 0.0208], [90, 0.0196], [100, 0.0216], [110, 0.0177], [120, 0.0168], [130, 0.0164], [140, 0.0153], [150, 0.018], [160, 0.0193], [170, 0.0163], [180, 0.0181], [190, 0.0166], [200, 0.0142], [210, 0.0165], [220, 0.0174], [230, 0.0151], [240, 0.0162], [250, 0.0155], [260, 0.0157], [270, 0.018], [280, 0.0122], [290, 0.018], [300, 0.0178], [310, 0.0158], [320, 0.0136], [330, 0.0191], [340, 0.0186], [350, 0.0153], [360, 0.0156], [370, 0.0133], [380, 0.0146], [390, 0.0121], [400, 0.0129], [410, 0.0155], [420, 0.0144], [430, 0.0132], [440, 0.0154], [450, 0.0172], [460, 0.0146], [470, 0.016], [480, 0.0143], [490, 0.014], [500, 0.0174], [510, 0.016], [520, 0.0169], [530, 0.0151], [540, 0.017], [550, 0.0207], [560, 0.0152], [570, 0.0238], [580, 0.0128], [590, 0.0129], [600, 0.0111], [610, 0.0123], [620, 0.0135], [630, 0.0128], [640, 0.0138], [650, 0.0112], [660, 0.0134], [670, 0.011], [680, 0.0167], [690, 0.0188], [700, 0.0178], [710, 0.0161], [720, 0.0127], [730, 0.0108], [740, 0.0119], [750, 0.013], [760, 0.0125], [770, 0.0205], [780, 0.0146], [790, 0.0111], [800, 0.011], [810, 0.0107], [820, 0.0128], [830, 0.0134], [840, 0.0129], [850, 0.0133], [860, 0.0129], [870, 0.0114], [880, 0.0128], [890, 0.0127], [900, 0.0122], [910, 0.0155], [920, 0.0142], [930, 0.0133], [940, 0.017], [950, 0.0099], [960, 0.017], [970, 0.0142], [980, 0.0116], [990, 0.0126], [1000, 0.0118], [1010, 0.0119], [1020, 0.0161], [1030, 0.0131], [1040, 0.0145], [1050, 0.0145], [1060, 0.017], [1070, 0.0123], [1080, 0.014], [1090, 0.0137], [1100, 0.0143], [1110, 0.0147], [1120, 0.0115], [1130, 0.011], [1140, 0.0176], [1150, 0.0154], [1160, 0.0112], [1170, 0.0119], [1180, 0.011], [1190, 0.012], [1200, 0.0115], [1210, 0.0137], [1220, 0.0153], [1230, 0.0138], [1240, 0.014], [1250, 0.0126], [1260, 0.0164], [1270, 0.014], [1280, 0.0145], [1290, 0.0128], [1300, 0.0126], [1310, 0.014], [1320, 0.01], [1330, 0.009], [1340, 0.0097], [1350, 0.0125], [1360, 0.0113], [1370, 0.0095], [1380, 0.0106], [1390, 0.0148], [1400, 0.0107], [1410, 0.0106], [1420, 0.0152], [1430, 0.0173], [1440, 0.0109], [1450, 0.0097], [1460, 0.0151], [1470, 0.0114], [1480, 0.018], [1490, 0.013], [1500, 0.0113], [1510, 0.0108], [1520, 0.0168], [1530, 0.0118], [1540, 0.0139], [1550, 0.012], [1560, 0.0105], [1570, 0.012], [1580, 0.011], [1590, 0.0111], [1600, 0.0123], [1610, 0.0091], [1620, 0.0107], [1630, 0.0107], [1640, 0.0092], [1650, 0.0097], [1660, 0.0104], [1670, 0.0102], [1680, 0.0124], [1690, 0.0089], [1700, 0.0144], [1710, 0.016], [1720, 0.0118], [1730, 0.0105], [1740, 0.0108], [1750, 0.0136], [1760, 0.0123], [1770, 0.0088], [1780, 0.0084], [1790, 0.0131], [1800, 0.0089], [1810, 0.0119], [1820, 0.0093], [1830, 0.0152], [1840, 0.0131], [1850, 0.0133], [1860, 0.0102], [1870, 0.0123], [1880, 0.0127], [1890, 0.0088], [1900, 0.0115], [1910, 0.0103], [1920, 0.0093], [1930, 0.0117], [1940, 0.0108], [1950, 0.0101], [1960, 0.01], [1970, 0.0117], [1980, 0.0099], [1990, 0.008], [2000, 0.0106], [2010, 0.0081], [2020, 0.0072], [2030, 0.0138], [2040, 0.0106], [2050, 0.0088], [2060, 0.0113], [2070, 0.0116], [2080, 0.01], [2090, 0.0105], [2100, 0.008], [2110, 0.0091], [2120, 0.0106], [2130, 0.0092], [2140, 0.0105], [2150, 0.0088], [2160, 0.0082], [2170, 0.0085], [2180, 0.0091], [2190, 0.0095], [2200, 0.0074], [2210, 0.0073], [2220, 0.011], [2230, 0.0099], [2240, 0.0098], [2250, 0.0104], [2260, 0.0094], [2270, 0.0077], [2280, 0.0086], [2290, 0.0125], [2300, 0.0081], [2310, 0.0107], [2320, 0.0092], [2330, 0.0064], [2340, 0.0077], [2350, 0.0077], [2360, 0.0072], [2370, 0.0136], [2380, 0.008], [2390, 0.0102], [2400, 0.0106], [2410, 0.0071], [2420, 0.0084], [2430, 0.0067], [2440, 0.0095], [2450, 0.0064], [2460, 0.0114], [2470, 0.0086], [2480, 0.0087], [2490, 0.008], [2500, 0.01], [2510, 0.0089], [2520, 0.0079], [2530, 0.0078], [2540, 0.007], [2550, 0.0068], [2560, 0.0067], [2570, 0.0089], [2580, 0.01], [2590, 0.0085], [2600, 0.0071], [2610, 0.0079], [2620, 0.0105], [2630, 0.0096], [2640, 0.0081], [2650, 0.0096], [2660, 0.0104], [2670, 0.0073], [2680, 0.0078], [2690, 0.0079], [2700, 0.0081], [2710, 0.0057], [2720, 0.0077], [2730, 0.0089], [2740, 0.0077], [2750, 0.0074], [2760, 0.0062], [2770, 0.0088], [2780, 0.0051], [2790, 0.0059], [2800, 0.0072], [2810, 0.0089], [2820, 0.0113], [2830, 0.0076], [2840, 0.0064], [2850, 0.0141], [2860, 0.0069], [2870, 0.0111], [2880, 0.0079], [2890, 0.0064], [2900, 0.0069], [2910, 0.0065], [2920, 0.0063], [2930, 0.0059], [2940, 0.0086], [2950, 0.0118], [2960, 0.0083], [2970, 0.0076], [2980, 0.0103], [2990, 0.0063], [3000, 0.0075], [3010, 0.0081], [3020, 0.0103], [3030, 0.0069], [3040, 0.0128], [3050, 0.0071], [3060, 0.017], [3070, 0.0091], [3080, 0.0086], [3090, 0.0059], [3100, 0.0076], [3110, 0.0072], [3120, 0.0074], [3130, 0.0087], [3140, 0.0052], [3150, 0.0083], [3160, 0.0071], [3170, 0.0098], [3180, 0.009], [3190, 0.006], [3200, 0.0074], [3210, 0.0081], [3220, 0.0075], [3230, 0.0089], [3240, 0.0087], [3250, 0.007], [3260, 0.0078], [3270, 0.0065], [3280, 0.0063], [3290, 0.0058], [3300, 0.0085], [3310, 0.0063], [3320, 0.0066], [3330, 0.0057], [3340, 0.0068], [3350, 0.0099], [3360, 0.0076], [3370, 0.0066], [3380, 0.0063], [3390, 0.0072]], &quot;type&quot;: &quot;line&quot;, &quot;name&quot;: &quot;Conv: 4, Out: 2, Kernel: 4, Loss: Smooth L1 Loss, Batch: 10, Drop: 0.4&quot;}]; var dataLen = data.length; for (var ix = 0; ix &lt; dataLen; ix++) { chart.addSeries(data[ix]); } }); &lt;/script&gt; &lt;/body&gt; &lt;/html&gt;\" height=520 width=820></iframe>"
      ],
      "text/plain": [
       "<highcharts.highcharts.highcharts.Highchart at 0x10f2b0080>"
      ]
     },
     "execution_count": 7,
     "metadata": {},
     "output_type": "execute_result"
    }
   ],
   "source": []
  },
  {
   "cell_type": "code",
   "execution_count": null,
   "metadata": {},
   "outputs": [],
   "source": []
  }
 ],
 "metadata": {
  "kernelspec": {
   "display_name": "Python 3",
   "language": "python",
   "name": "python3"
  },
  "language_info": {
   "codemirror_mode": {
    "name": "ipython",
    "version": 3
   },
   "file_extension": ".py",
   "mimetype": "text/x-python",
   "name": "python",
   "nbconvert_exporter": "python",
   "pygments_lexer": "ipython3",
   "version": "3.6.6"
  }
 },
 "nbformat": 4,
 "nbformat_minor": 2
}
